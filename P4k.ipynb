{
 "cells": [
  {
   "cell_type": "code",
   "execution_count": 242,
   "metadata": {},
   "outputs": [
    {
     "name": "stdout",
     "output_type": "stream",
     "text": [
      "       reviewid    pub_date               artist  \\\n",
      "0         22703  2017-01-08       massive attack   \n",
      "1         22721  2017-01-07             krallice   \n",
      "2         22659  2017-01-07         uranium club   \n",
      "3         22661  2017-01-06              kleenex   \n",
      "4         22661  2017-01-06              liliput   \n",
      "5         22725  2017-01-06                 taso   \n",
      "6         22722  2017-01-05      various artists   \n",
      "7         22704  2017-01-05          little simz   \n",
      "8         22694  2017-01-05           yotam avni   \n",
      "9         22714  2017-01-04            brian eno   \n",
      "10        22724  2017-01-04              the lox   \n",
      "11        22715  2017-01-04        harry bertoia   \n",
      "12        22745  2017-01-03       run the jewels   \n",
      "13        22700  2017-01-03       steven warwick   \n",
      "14        22720  2017-01-02           yasiin bey   \n",
      "15        22699  2017-01-02            smoke dza   \n",
      "16        22699  2017-01-02            pete rock   \n",
      "17        22665  2017-01-02      various artists   \n",
      "18        22666  2017-01-02              senyawa   \n",
      "19        22719  2016-12-30    chance the rapper   \n",
      "20        22719  2016-12-30    chance the rapper   \n",
      "21        22719  2016-12-30              jeremih   \n",
      "22        22719  2016-12-30              jeremih   \n",
      "23        22667  2016-12-30      jamire williams   \n",
      "24        22691  2016-12-29            the-dream   \n",
      "25        22691  2016-12-29            the-dream   \n",
      "26        22702  2016-12-29       worm ouroboros   \n",
      "27        22718  2016-12-28      nine inch nails   \n",
      "28        22706  2016-12-28           elder ones   \n",
      "29        22695  2016-12-27      the microphones   \n",
      "...         ...         ...                  ...   \n",
      "23481      1514  1999-03-01               clinic   \n",
      "23482      8677  1999-02-28                wilco   \n",
      "23483      7051  1999-02-23              sebadoh   \n",
      "23484      7051  1999-02-23              sebadoh   \n",
      "23485      6435  1999-02-23      poster children   \n",
      "23486      1014  1999-02-23       built to spill   \n",
      "23487      7460  1999-02-23         starflyer 59   \n",
      "23488      2965  1999-02-23        jason falkner   \n",
      "23489      7981  1999-02-23              the the   \n",
      "23490      8835  1999-02-23                  xtc   \n",
      "23491      8835  1999-02-23                  xtc   \n",
      "23492      6138  1999-02-23            pan sonic   \n",
      "23493      6138  1999-02-23            pan sonic   \n",
      "23494      1242  1999-02-18             califone   \n",
      "23495      1023  1999-02-16     burning airlines   \n",
      "23496      1023  1999-02-16     burning airlines   \n",
      "23497       287  1999-02-11   arling and cameron   \n",
      "23498       287  1999-02-11   arling and cameron   \n",
      "23499      3741  1999-02-09  john wesley harding   \n",
      "23500      6455  1999-02-09           sam prekop   \n",
      "23501       361  1999-02-09             autechre   \n",
      "23502      6372  1999-02-01                 pole   \n",
      "23503      1535  1999-01-26              coldcut   \n",
      "23504      1535  1999-01-26              coldcut   \n",
      "23505      1341  1999-01-26              cassius   \n",
      "23506      5376  1999-01-12             mojave 3   \n",
      "23507      2413  1999-01-12        don caballero   \n",
      "23508      2413  1999-01-12        don caballero   \n",
      "23509      2413  1999-01-12        don caballero   \n",
      "23510      3723  1999-01-05       neil hamburger   \n",
      "\n",
      "                                                   title         genre  score  \\\n",
      "0                                              mezzanine    electronic    9.3   \n",
      "1                                           prelapsarian         metal    7.9   \n",
      "2                                   all of them naturals          rock    7.3   \n",
      "3                                            first songs          rock    9.0   \n",
      "4                                            first songs          rock    9.0   \n",
      "5                                              new start    electronic    8.1   \n",
      "6          insecure (music from the hbo original series)         Other    7.4   \n",
      "7                                stillness in wonderland           rap    7.1   \n",
      "8                                               tehillim    electronic    7.0   \n",
      "9                                             reflection  experimental    7.7   \n",
      "10                          filthy america its beautiful           rap    5.3   \n",
      "11                                 clear sounds/perfetta  experimental    8.0   \n",
      "12                                      run the jewels 3           rap    8.6   \n",
      "13                                                 nadir    electronic    7.6   \n",
      "14                                         december 99th           rap    3.5   \n",
      "15                                      don't smoke rock           rap    7.4   \n",
      "16                                      don't smoke rock           rap    7.4   \n",
      "17     punk45: les punks: the french connection (the ...         Other    6.6   \n",
      "18                                       brnshj (puncak)  experimental    7.4   \n",
      "19                              merry christmas lil mama           rap    8.1   \n",
      "20                              merry christmas lil mama       pop/r&b    8.1   \n",
      "21                              merry christmas lil mama           rap    8.1   \n",
      "22                              merry christmas lil mama       pop/r&b    8.1   \n",
      "23                                       ///// effectual  experimental    7.2   \n",
      "24                                     love you to death           rap    7.0   \n",
      "25                                     love you to death       pop/r&b    7.0   \n",
      "26                                   what graceless dawn         metal    7.5   \n",
      "27                              not the actual events ep          rock    6.3   \n",
      "28                                          holy science  experimental    7.8   \n",
      "29                                early tapes, 1996-1998          rock    6.5   \n",
      "...                                                  ...           ...    ...   \n",
      "23481                                             clinic    electronic    8.0   \n",
      "23482                                        summerteeth          rock    9.4   \n",
      "23483                                        the sebadoh          rock    7.4   \n",
      "23484                                        the sebadoh  experimental    7.4   \n",
      "23485                                   new world record          rock    8.1   \n",
      "23486                              keep it like a secret          rock    9.3   \n",
      "23487                              fell in love at 22 ep          rock    8.5   \n",
      "23488                                 can you still feel       pop/r&b    5.8   \n",
      "23489                                  burning blue soul         Other    7.6   \n",
      "23490                            apple venus, volume one          rock    8.2   \n",
      "23491                            apple venus, volume one    electronic    8.2   \n",
      "23492                                                  a  experimental    7.4   \n",
      "23493                                                  a    electronic    7.4   \n",
      "23494                                           califone          rock    9.2   \n",
      "23495                                  mission: control!          rock    8.4   \n",
      "23496                                  mission: control!         metal    8.4   \n",
      "23497                                             all-in       pop/r&b    8.0   \n",
      "23498                                             all-in    electronic    8.0   \n",
      "23499                                     trad arr jones  folk/country    7.3   \n",
      "23500                                         sam prekop    electronic    8.9   \n",
      "23501                                       peel session    electronic    7.7   \n",
      "23502                                               cd 2    electronic    7.2   \n",
      "23503                                     let us replay!          jazz    8.9   \n",
      "23504                                     let us replay!    electronic    8.9   \n",
      "23505                                               1999    electronic    4.8   \n",
      "23506                                        out of tune          rock    6.3   \n",
      "23507                        singles breaking up, vol. 1          rock    7.2   \n",
      "23508                        singles breaking up, vol. 1         metal    7.2   \n",
      "23509                        singles breaking up, vol. 1  experimental    7.2   \n",
      "23510                          left for dead in malaysia         Other    6.5   \n",
      "\n",
      "       year  \n",
      "0      2017  \n",
      "1      2017  \n",
      "2      2017  \n",
      "3      2017  \n",
      "4      2017  \n",
      "5      2017  \n",
      "6      2017  \n",
      "7      2017  \n",
      "8      2017  \n",
      "9      2017  \n",
      "10     2017  \n",
      "11     2017  \n",
      "12     2017  \n",
      "13     2017  \n",
      "14     2017  \n",
      "15     2017  \n",
      "16     2017  \n",
      "17     2017  \n",
      "18     2017  \n",
      "19     2016  \n",
      "20     2016  \n",
      "21     2016  \n",
      "22     2016  \n",
      "23     2016  \n",
      "24     2016  \n",
      "25     2016  \n",
      "26     2016  \n",
      "27     2016  \n",
      "28     2016  \n",
      "29     2016  \n",
      "...     ...  \n",
      "23481  1999  \n",
      "23482  1999  \n",
      "23483  1999  \n",
      "23484  1999  \n",
      "23485  1999  \n",
      "23486  1999  \n",
      "23487  1999  \n",
      "23488  1999  \n",
      "23489  1999  \n",
      "23490  1999  \n",
      "23491  1999  \n",
      "23492  1999  \n",
      "23493  1999  \n",
      "23494  1999  \n",
      "23495  1999  \n",
      "23496  1999  \n",
      "23497  1999  \n",
      "23498  1999  \n",
      "23499  1999  \n",
      "23500  1999  \n",
      "23501  1999  \n",
      "23502  1999  \n",
      "23503  1999  \n",
      "23504  1999  \n",
      "23505  1999  \n",
      "23506  1999  \n",
      "23507  1999  \n",
      "23508  1999  \n",
      "23509  1999  \n",
      "23510  1999  \n",
      "\n",
      "[23511 rows x 7 columns]\n"
     ]
    }
   ],
   "source": [
    "import pandas as pd\n",
    "import numpy as np\n",
    "import matplotlib.pyplot as plt\n",
    "import seaborn as sns\n",
    "import sqlite3\n",
    "import datetime\n",
    "con = sqlite3.connect('database.sqlite')\n",
    "scores = pd.read_sql('SELECT reviewid, score FROM reviews', con)\n",
    "artists = pd.read_sql('SELECT * FROM artists', con)\n",
    "years = pd.read_sql('SELECT * FROM years', con)\n",
    "genre = pd.read_sql('SELECT * FROM genres', con)\n",
    "album = pd.read_sql('SELECT reviewid, title, pub_date FROM reviews', con)\n",
    "con.close()\n",
    "\n",
    "review = pd.merge(artists, album)\n",
    "review = pd.merge(review, scores)\n",
    "review = pd.merge(review, genre)\n",
    "ri =[\"reviewid\", \"pub_date\", \"artist\", \"title\", \"genre\", \"score\"]\n",
    "review = review.reindex(columns=ri)\n",
    "review[\"year\"] = pd.DatetimeIndex(review[\"pub_date\"]).year\n",
    "review[\"genre\"].fillna(\"Other\", inplace = True)\n",
    "review[\"score\"].fillna(6.5, inplace= True)\n",
    "print(review)"
   ]
  },
  {
   "cell_type": "code",
   "execution_count": 243,
   "metadata": {},
   "outputs": [
    {
     "name": "stdout",
     "output_type": "stream",
     "text": [
      "                 score\n",
      "genre                 \n",
      "Other         7.019643\n",
      "electronic    6.923048\n",
      "experimental  7.334545\n",
      "folk/country  7.207639\n",
      "global        7.414286\n",
      "jazz          7.323171\n",
      "metal         6.948394\n",
      "pop/r&b       6.894969\n",
      "rap           6.900547\n",
      "rock          6.944318\n"
     ]
    },
    {
     "data": {
      "text/plain": [
       "[<matplotlib.lines.Line2D at 0x1fd58351780>]"
      ]
     },
     "execution_count": 243,
     "metadata": {},
     "output_type": "execute_result"
    },
    {
     "data": {
      "image/png": "[encoded data removed]",
      "text/plain": [
       "<Figure size 432x288 with 1 Axes>"
      ]
     },
     "metadata": {
      "needs_background": "light"
     },
     "output_type": "display_data"
    }
   ],
   "source": [
    "w = review[[\"genre\",\"score\"]].groupby(\"genre\").mean()\n",
    "print(w)\n",
    "plt.plot(w)"
   ]
  },
  {
   "cell_type": "code",
   "execution_count": 251,
   "metadata": {
    "scrolled": true
   },
   "outputs": [
    {
     "name": "stdout",
     "output_type": "stream",
     "text": [
      "                    score\n",
      "genre      year          \n",
      "Other      1999  7.240000\n",
      "           2000  6.575862\n",
      "           2001  6.809615\n",
      "           2002  6.749677\n",
      "           2003  6.909756\n",
      "           2004  7.314173\n",
      "           2005  7.222901\n",
      "           2006  7.036810\n",
      "           2007  7.048993\n",
      "           2008  6.974046\n",
      "           2009  6.946602\n",
      "           2010  7.093860\n",
      "           2011  7.204040\n",
      "           2012  6.939910\n",
      "           2013  6.927937\n",
      "           2014  7.076033\n",
      "           2015  7.213953\n",
      "           2016  7.150704\n",
      "           2017  7.000000\n",
      "electronic 1999  6.770000\n",
      "           2000  7.125926\n",
      "           2001  6.924000\n",
      "           2002  6.941451\n",
      "           2003  6.887544\n",
      "           2004  7.107224\n",
      "           2005  7.021344\n",
      "           2006  6.902049\n",
      "           2007  6.689593\n",
      "           2008  6.749569\n",
      "           2009  6.613308\n",
      "...                   ...\n",
      "rap        2007  6.649315\n",
      "           2008  6.558511\n",
      "           2009  6.552174\n",
      "           2010  6.791837\n",
      "           2011  6.829661\n",
      "           2012  6.768421\n",
      "           2013  6.989720\n",
      "           2014  7.100926\n",
      "           2015  6.957471\n",
      "           2016  6.980000\n",
      "           2017  6.550000\n",
      "rock       1999  6.692254\n",
      "           2000  6.765532\n",
      "           2001  7.235563\n",
      "           2002  6.732079\n",
      "           2003  6.893994\n",
      "           2004  7.184122\n",
      "           2005  6.944302\n",
      "           2006  6.952473\n",
      "           2007  6.779028\n",
      "           2008  6.862341\n",
      "           2009  6.779462\n",
      "           2010  6.866466\n",
      "           2011  7.010296\n",
      "           2012  6.986364\n",
      "           2013  7.009879\n",
      "           2014  7.063373\n",
      "           2015  6.962132\n",
      "           2016  7.290508\n",
      "           2017  8.433333\n",
      "\n",
      "[186 rows x 1 columns]\n"
     ]
    }
   ],
   "source": [
    "Q = review[[\"genre\",\"year\",\"score\"]].groupby([\"genre\",\"year\"]).mean()\n",
    "print(Q)"
   ]
  },
  {
   "cell_type": "code",
   "execution_count": 265,
   "metadata": {},
   "outputs": [
    {
     "name": "stdout",
     "output_type": "stream",
     "text": [
      "         score\n",
      "year          \n",
      "1999  8.333333\n",
      "2000  6.827273\n",
      "2001  7.372727\n",
      "2002  7.160714\n",
      "2003  7.026829\n",
      "2004  7.111111\n",
      "2005  7.161290\n",
      "2006  6.755556\n",
      "2007  6.649315\n",
      "2008  6.558511\n",
      "2009  6.552174\n",
      "2010  6.791837\n",
      "2011  6.829661\n",
      "2012  6.768421\n",
      "2013  6.989720\n",
      "2014  7.100926\n",
      "2015  6.957471\n",
      "2016  6.980000\n",
      "2017  6.550000\n"
     ]
    },
    {
     "data": {
      "text/plain": [
       "[<matplotlib.lines.Line2D at 0x1fd550c7ac8>]"
      ]
     },
     "execution_count": 265,
     "metadata": {},
     "output_type": "execute_result"
    },
    {
     "data": {
      "image/png": "[encoded data removed]",
      "text/plain": [
       "<Figure size 432x288 with 1 Axes>"
      ]
     },
     "metadata": {
      "needs_background": "light"
     },
     "output_type": "display_data"
    }
   ],
   "source": [
    "x = review.loc[review[\"genre\"]=='rap']\n",
    "X =x[\"year\"].index.values\n",
    "Y =x[[\"year\",\"score\"]].groupby([\"year\"]).mean()\n",
    "print(Y)\n",
    "plt.title(\"Average Scores of Rap Albums\")\n",
    "plt.plot(Y)\n"
   ]
  },
  {
   "cell_type": "code",
   "execution_count": 266,
   "metadata": {},
   "outputs": [
    {
     "name": "stdout",
     "output_type": "stream",
     "text": [
      "         score\n",
      "year          \n",
      "1999  6.730000\n",
      "2000  7.159459\n",
      "2001  7.676000\n",
      "2002  7.551485\n",
      "2003  7.492254\n",
      "2004  7.545912\n",
      "2005  7.237681\n",
      "2006  7.328276\n",
      "2007  7.310078\n",
      "2008  7.266935\n",
      "2009  6.986364\n",
      "2010  7.192683\n",
      "2011  7.290226\n",
      "2012  7.428947\n",
      "2013  7.125253\n",
      "2014  7.361224\n",
      "2015  7.497778\n",
      "2016  7.390323\n",
      "2017  7.700000\n"
     ]
    },
    {
     "data": {
      "text/plain": [
       "[<matplotlib.lines.Line2D at 0x1fd57a30208>]"
      ]
     },
     "execution_count": 266,
     "metadata": {},
     "output_type": "execute_result"
    },
    {
     "data": {
      "image/png": "[encoded data removed]",
      "text/plain": [
       "<Figure size 432x288 with 1 Axes>"
      ]
     },
     "metadata": {
      "needs_background": "light"
     },
     "output_type": "display_data"
    }
   ],
   "source": [
    "x = review.loc[review[\"genre\"]=='experimental']\n",
    "X =x[\"year\"].index.values\n",
    "Y =x[[\"year\",\"score\"]].groupby([\"year\"]).mean()\n",
    "print(Y)\n",
    "plt.title(\"Average Scores of experimental Albums\")\n",
    "plt.plot(Y)\n"
   ]
  },
  {
   "cell_type": "code",
   "execution_count": 295,
   "metadata": {},
   "outputs": [
    {
     "data": {
      "text/plain": [
       "[<matplotlib.lines.Line2D at 0x1fd525ce5f8>]"
      ]
     },
     "execution_count": 295,
     "metadata": {},
     "output_type": "execute_result"
    },
    {
     "data": {
      "image/png": "[encoded data removed]",
      "text/plain": [
       "<Figure size 432x288 with 1 Axes>"
      ]
     },
     "metadata": {
      "needs_background": "light"
     },
     "output_type": "display_data"
    }
   ],
   "source": [
    "x = review.loc[review[\"genre\"]=='rap']\n",
    "num = x.groupby(\"year\").size()\n",
    "plt.title(\"Number of rap Albums reviewed\")\n",
    "plt.plot(num)"
   ]
  },
  {
   "cell_type": "code",
   "execution_count": null,
   "metadata": {},
   "outputs": [],
   "source": []
  }
 ],
 "metadata": {
  "kernelspec": {
   "display_name": "Python 3",
   "language": "python",
   "name": "python3"
  },
  "language_info": {
   "codemirror_mode": {
    "name": "ipython",
    "version": 3
   },
   "file_extension": ".py",
   "mimetype": "text/x-python",
   "name": "python",
   "nbconvert_exporter": "python",
   "pygments_lexer": "ipython3",
   "version": "3.6.6"
  }
 },
 "nbformat": 4,
 "nbformat_minor": 2
}
